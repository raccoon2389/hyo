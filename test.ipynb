{
 "cells": [
  {
   "cell_type": "code",
   "execution_count": 1,
   "source": [
    "from aicsimageio import AICSImage\r\n",
    "import cv2"
   ],
   "outputs": [],
   "metadata": {}
  },
  {
   "cell_type": "code",
   "execution_count": 2,
   "source": [
    "fname = 'data/Experiment-81.czi'"
   ],
   "outputs": [],
   "metadata": {}
  },
  {
   "cell_type": "code",
   "execution_count": 3,
   "source": [
    "asimg = AICSImage(fname, chunk_dims=[\"T\", \"Y\", \"X\"])"
   ],
   "outputs": [],
   "metadata": {}
  },
  {
   "cell_type": "code",
   "execution_count": 4,
   "source": [
    "img = asimg.get_image_data('TYXZ')"
   ],
   "outputs": [],
   "metadata": {}
  },
  {
   "cell_type": "code",
   "execution_count": null,
   "source": [],
   "outputs": [],
   "metadata": {}
  },
  {
   "cell_type": "code",
   "execution_count": 5,
   "source": [
    "cv2.imshow('img',img[0])\r\n",
    "cv2.waitKey(0)\r\n",
    "cv2.destroyAllWindows()\r\n"
   ],
   "outputs": [],
   "metadata": {}
  },
  {
   "cell_type": "code",
   "execution_count": 9,
   "source": [
    "x,y,w,h = cv2.selectROI('CENTER', img[0], False)\r\n",
    "\r\n",
    "if w and h:\r\n",
    "    center = img[:,y:y+h, x:x+w]\r\n",
    "    # cv2.imshow('drag', center[0])\r\n",
    "    # cv2.imwrite('drag.jpg', roi)\r\n",
    "# cv2.imshow('CENTER', img[0])\r\n",
    "# cv2.namedWindow(\"CENTER\", cv2.WINDOW_NORMAL);\r\n",
    "cv2.waitKey()\r\n",
    "cv2.destroyAllWindows()"
   ],
   "outputs": [],
   "metadata": {}
  },
  {
   "cell_type": "code",
   "execution_count": 10,
   "source": [
    "x,y,w,h = cv2.selectROI('BD', img[0], False)\r\n",
    "\r\n",
    "if w and h:\r\n",
    "    bd = img[:,y:y+h, x:x+w]\r\n",
    "    # cv2.imshow('drag', roi)\r\n",
    "    # cv2.imwrite('drag.jpg', roi)\r\n",
    "# cv2.imshow('BD', img[0])\r\n",
    "# cv2.namedWindow(\"BD\", cv2.WINDOW_NORMAL);\r\n",
    "cv2.waitKey()\r\n",
    "cv2.destroyAllWindows()"
   ],
   "outputs": [],
   "metadata": {}
  },
  {
   "cell_type": "code",
   "execution_count": 11,
   "source": [
    "x,y,w,h = cv2.selectROI('image', img[0], False)\r\n",
    "\r\n",
    "if w and h:\r\n",
    "    whole = img[:,y:y+h, x:x+w]\r\n",
    "    # cv2.imshow('drag', roi)\r\n",
    "    # cv2.imwrite('drag.jpg', roi)\r\n",
    "cv2.imshow('WHOLE', img[0])\r\n",
    "# cv2.namedWindow(\"WHOLE\", cv2.WINDOW_NORMAL);\r\n",
    "cv2.waitKey()\r\n",
    "cv2.destroyAllWindows()"
   ],
   "outputs": [],
   "metadata": {}
  },
  {
   "cell_type": "code",
   "execution_count": 12,
   "source": [
    "import numpy as np"
   ],
   "outputs": [],
   "metadata": {}
  },
  {
   "cell_type": "code",
   "execution_count": 13,
   "source": [
    "np.array([np.mean(i) for i in whole]).shape"
   ],
   "outputs": [
    {
     "output_type": "execute_result",
     "data": {
      "text/plain": [
       "(1100,)"
      ]
     },
     "metadata": {},
     "execution_count": 13
    }
   ],
   "metadata": {}
  },
  {
   "cell_type": "code",
   "execution_count": 14,
   "source": [
    "import pandas as pd"
   ],
   "outputs": [],
   "metadata": {}
  },
  {
   "cell_type": "code",
   "execution_count": null,
   "source": [],
   "outputs": [],
   "metadata": {}
  },
  {
   "cell_type": "code",
   "execution_count": 23,
   "source": [
    "pd.DataFrame([[i for i in np.arange(-0.3716,20.04782,0.01858)],[np.mean(i) for i in center],[np.mean(i) for i in bd],[np.mean(i) for i in whole]]).T.to_excel(f'{fname}.xlsx',header=None,index=None)"
   ],
   "outputs": [],
   "metadata": {}
  }
 ],
 "metadata": {
  "orig_nbformat": 4,
  "language_info": {
   "name": "python",
   "version": "3.9.4",
   "mimetype": "text/x-python",
   "codemirror_mode": {
    "name": "ipython",
    "version": 3
   },
   "pygments_lexer": "ipython3",
   "nbconvert_exporter": "python",
   "file_extension": ".py"
  },
  "kernelspec": {
   "name": "python3",
   "display_name": "Python 3.9.4 64-bit ('torch': conda)"
  },
  "interpreter": {
   "hash": "c823e32c24d06b3518059b5f5e11ccae729689482027ea5186dc849db7650ef7"
  }
 },
 "nbformat": 4,
 "nbformat_minor": 2
}